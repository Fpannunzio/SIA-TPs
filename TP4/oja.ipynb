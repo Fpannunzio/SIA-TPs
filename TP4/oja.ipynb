{
 "cells": [
  {
   "cell_type": "code",
   "execution_count": 1,
   "metadata": {
    "pycharm": {
     "name": "#%%\n"
    }
   },
   "outputs": [],
   "source": [
    "# ![ ! -d \"SIA-TPs\" ] && git clone https://github.com/Fpannunzio/SIA-TPs.git\n",
    "# ! pip install -r SIA-TPs/TP4/requirements.txt"
   ]
  },
  {
   "cell_type": "code",
   "execution_count": 2,
   "metadata": {},
   "outputs": [],
   "source": [
    "import numpy as np\n",
    "import pandas\n",
    "from sklearn.decomposition import PCA\n",
    "from sklearn.preprocessing import StandardScaler\n",
    "\n",
    "# basePath = 'SIA-TPs/TP4'\n",
    "basePath = '.'\n",
    "\n",
    "def oja(values: np.ndarray, eta: float, w: np.ndarray, epoch: int, tolerance: float) -> np.ndarray:\n",
    "    iteration: int = 0\n",
    "    for _ in range(epoch):\n",
    "        for i in range(np.shape(values)[0]):\n",
    "            iteration += 1\n",
    "            sum: np.ndarray = np.dot(values[i], w)\n",
    "            prev_w: np.ndarray = np.copy(w)\n",
    "            w += eta * sum * (values[i] - sum * w)\n",
    "            if np.linalg.norm(w - prev_w) < tolerance:\n",
    "                print(iteration)\n",
    "                return w / np.linalg.norm(w)\n",
    "    return w / np.linalg.norm(w)"
   ]
  },
  {
   "cell_type": "code",
   "execution_count": 3,
   "metadata": {
    "pycharm": {
     "name": "#%%\n"
    }
   },
   "outputs": [
    {
     "data": {
      "text/html": [
       "<div>\n",
       "<style scoped>\n",
       "    .dataframe tbody tr th:only-of-type {\n",
       "        vertical-align: middle;\n",
       "    }\n",
       "\n",
       "    .dataframe tbody tr th {\n",
       "        vertical-align: top;\n",
       "    }\n",
       "\n",
       "    .dataframe thead th {\n",
       "        text-align: right;\n",
       "    }\n",
       "</style>\n",
       "<table border=\"1\" class=\"dataframe\">\n",
       "  <thead>\n",
       "    <tr style=\"text-align: right;\">\n",
       "      <th></th>\n",
       "      <th>PC</th>\n",
       "      <th>Area</th>\n",
       "      <th>GDP</th>\n",
       "      <th>Inflation</th>\n",
       "      <th>Life.expect</th>\n",
       "      <th>Military</th>\n",
       "      <th>Pop.growth</th>\n",
       "      <th>Unemployment</th>\n",
       "    </tr>\n",
       "  </thead>\n",
       "  <tbody>\n",
       "    <tr>\n",
       "      <th>0</th>\n",
       "      <td>PC1</td>\n",
       "      <td>0.124874</td>\n",
       "      <td>-0.500506</td>\n",
       "      <td>0.406518</td>\n",
       "      <td>-0.482873</td>\n",
       "      <td>0.188112</td>\n",
       "      <td>-0.475704</td>\n",
       "      <td>0.271656</td>\n",
       "    </tr>\n",
       "    <tr>\n",
       "      <th>1</th>\n",
       "      <td>Oja</td>\n",
       "      <td>0.131902</td>\n",
       "      <td>-0.499125</td>\n",
       "      <td>0.412998</td>\n",
       "      <td>-0.483684</td>\n",
       "      <td>0.181898</td>\n",
       "      <td>-0.473477</td>\n",
       "      <td>0.267751</td>\n",
       "    </tr>\n",
       "    <tr>\n",
       "      <th>2</th>\n",
       "      <td>Diff</td>\n",
       "      <td>0.007029</td>\n",
       "      <td>0.001380</td>\n",
       "      <td>0.006480</td>\n",
       "      <td>0.000810</td>\n",
       "      <td>0.006213</td>\n",
       "      <td>0.002227</td>\n",
       "      <td>0.003904</td>\n",
       "    </tr>\n",
       "  </tbody>\n",
       "</table>\n",
       "</div>"
      ],
      "text/plain": [
       "     PC      Area       GDP  Inflation  Life.expect  Military  Pop.growth  \\\n",
       "0   PC1  0.124874 -0.500506   0.406518    -0.482873  0.188112   -0.475704   \n",
       "1   Oja  0.131902 -0.499125   0.412998    -0.483684  0.181898   -0.473477   \n",
       "2  Diff  0.007029  0.001380   0.006480     0.000810  0.006213    0.002227   \n",
       "\n",
       "   Unemployment  \n",
       "0      0.271656  \n",
       "1      0.267751  \n",
       "2      0.003904  "
      ]
     },
     "execution_count": 3,
     "metadata": {},
     "output_type": "execute_result"
    }
   ],
   "source": [
    "europe = pandas.read_csv(basePath + '/' + 'europe.csv')\n",
    "values = StandardScaler().fit_transform(europe.values[:, 1:])\n",
    "\n",
    "l_rate = 0.001\n",
    "initial_weights = np.random.uniform(-1, 1, np.size(values, 1))\n",
    "epoch_count = 1500\n",
    "e_tolerance = 1e-8\n",
    "\n",
    "\n",
    "pca = PCA()\n",
    "pca.fit(values)\n",
    "\n",
    "oja_weights = oja(values, l_rate, initial_weights, epoch_count, e_tolerance)\n",
    "\n",
    "diff= np.abs(np.array(pca.components_[0]) - oja_weights)\n",
    "\n",
    "pc = pandas.DataFrame(data=[pca.components_[0], oja_weights, diff], columns=europe.columns.values[1:])\n",
    "pc_title = pandas.DataFrame(data=[['PC1'], ['Oja'], ['Diff']], columns=['PC'])\n",
    "pandas.concat([pc_title, pc], axis = 1)"
   ]
  }
 ],
 "metadata": {
  "kernelspec": {
   "display_name": "Python 3",
   "language": "python",
   "name": "python3"
  },
  "language_info": {
   "codemirror_mode": {
    "name": "ipython",
    "version": 3
   },
   "file_extension": ".py",
   "mimetype": "text/x-python",
   "name": "python",
   "nbconvert_exporter": "python",
   "pygments_lexer": "ipython3",
   "version": "3.9.2"
  }
 },
 "nbformat": 4,
 "nbformat_minor": 1
}