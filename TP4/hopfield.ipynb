{
 "cells": [
  {
   "cell_type": "code",
   "execution_count": 1,
   "metadata": {
    "pycharm": {
     "name": "#%%\n"
    }
   },
   "outputs": [],
   "source": [
    "# ![ ! -d \"SIA-TPs\" ] && git clone https://github.com/Fpannunzio/SIA-TPs.git\n",
    "# ! pip install -r SIA-TPs/TP4/requirements.txt"
   ]
  },
  {
   "cell_type": "code",
   "execution_count": 2,
   "metadata": {},
   "outputs": [],
   "source": [
    "import os\n",
    "import sys\n",
    "\n",
    "# basePath = 'SIA-TPs/TP4'\n",
    "basePath = '.'\n",
    "\n",
    "module_path = os.path.abspath(os.path.join(basePath))\n",
    "if module_path not in sys.path:\n",
    "    sys.path.append(module_path)"
   ]
  },
  {
   "cell_type": "code",
   "execution_count": 3,
   "metadata": {
    "pycharm": {
     "name": "#%%\n"
    }
   },
   "outputs": [],
   "source": [
    "import numpy as np\n",
    "import pandas\n",
    "\n",
    "from hopfield_utils import get_training_set, print_letter, print_letter_and_prediction, random_alter\n",
    "from hopfield_network import HopfieldNetwork"
   ]
  },
  {
   "cell_type": "code",
   "execution_count": 4,
   "metadata": {
    "pycharm": {
     "name": "#%%\n"
    }
   },
   "outputs": [],
   "source": [
    "rows_per_entry: int = 5\n",
    "elem_per_row: int = 5\n",
    "\n",
    "training_letters: np.ndarray = get_training_set(basePath + '/' + 'patterns/letters_inputs.tsv', rows_per_entry)\n",
    "\n",
    "testing_letters: np.ndarray = get_training_set(basePath + '/' + 'patterns/letters_test.tsv', rows_per_entry)\n",
    "\n",
    "absurd_letter: np.ndarray = get_training_set(basePath + '/' + 'patterns/absurd_pattern.tsv', rows_per_entry)\n",
    "\n",
    "hopfield_network: HopfieldNetwork = HopfieldNetwork(training_letters)"
   ]
  },
  {
   "cell_type": "markdown",
   "metadata": {
    "pycharm": {
     "name": "#%% md\n"
    }
   },
   "source": [
    "## Test ortogonalidad"
   ]
  },
  {
   "cell_type": "code",
   "execution_count": 5,
   "metadata": {
    "pycharm": {
     "name": "#%%\n"
    }
   },
   "outputs": [
    {
     "data": {
      "text/html": [
       "<style  type=\"text/css\" >\n",
       "</style><table id=\"T_810b8_\" ><thead>    <tr>        <th class=\"col_heading level0 col0\" > </th>        <th class=\"col_heading level0 col1\" >J</th>        <th class=\"col_heading level0 col2\" >A</th>        <th class=\"col_heading level0 col3\" >L</th>        <th class=\"col_heading level0 col4\" >X</th>    </tr></thead><tbody>\n",
       "                <tr>\n",
       "                                <td id=\"T_810b8_row0_col0\" class=\"data row0 col0\" >J</td>\n",
       "                        <td id=\"T_810b8_row0_col1\" class=\"data row0 col1\" >0</td>\n",
       "                        <td id=\"T_810b8_row0_col2\" class=\"data row0 col2\" >1</td>\n",
       "                        <td id=\"T_810b8_row0_col3\" class=\"data row0 col3\" >3</td>\n",
       "                        <td id=\"T_810b8_row0_col4\" class=\"data row0 col4\" >3</td>\n",
       "            </tr>\n",
       "            <tr>\n",
       "                                <td id=\"T_810b8_row1_col0\" class=\"data row1 col0\" >A</td>\n",
       "                        <td id=\"T_810b8_row1_col1\" class=\"data row1 col1\" >1</td>\n",
       "                        <td id=\"T_810b8_row1_col2\" class=\"data row1 col2\" >0</td>\n",
       "                        <td id=\"T_810b8_row1_col3\" class=\"data row1 col3\" >-1</td>\n",
       "                        <td id=\"T_810b8_row1_col4\" class=\"data row1 col4\" >-5</td>\n",
       "            </tr>\n",
       "            <tr>\n",
       "                                <td id=\"T_810b8_row2_col0\" class=\"data row2 col0\" >L</td>\n",
       "                        <td id=\"T_810b8_row2_col1\" class=\"data row2 col1\" >3</td>\n",
       "                        <td id=\"T_810b8_row2_col2\" class=\"data row2 col2\" >-1</td>\n",
       "                        <td id=\"T_810b8_row2_col3\" class=\"data row2 col3\" >0</td>\n",
       "                        <td id=\"T_810b8_row2_col4\" class=\"data row2 col4\" >1</td>\n",
       "            </tr>\n",
       "            <tr>\n",
       "                                <td id=\"T_810b8_row3_col0\" class=\"data row3 col0\" >X</td>\n",
       "                        <td id=\"T_810b8_row3_col1\" class=\"data row3 col1\" >3</td>\n",
       "                        <td id=\"T_810b8_row3_col2\" class=\"data row3 col2\" >-5</td>\n",
       "                        <td id=\"T_810b8_row3_col3\" class=\"data row3 col3\" >1</td>\n",
       "                        <td id=\"T_810b8_row3_col4\" class=\"data row3 col4\" >0</td>\n",
       "            </tr>\n",
       "    </tbody></table>"
      ],
      "text/plain": [
       "<pandas.io.formats.style.Styler at 0x7fc3cdb68100>"
      ]
     },
     "execution_count": 5,
     "metadata": {},
     "output_type": "execute_result"
    }
   ],
   "source": [
    "product = np.dot(training_letters,training_letters.T)\n",
    "np.fill_diagonal(product,0)\n",
    "\n",
    "letters = ['J', 'A', 'L', 'X']\n",
    "\n",
    "pc = pandas.DataFrame(data=product, columns=letters)\n",
    "pc_title = pandas.DataFrame(data=letters, columns=[' '])\n",
    "df = pandas.concat([pc_title, pc], axis = 1)\n",
    "df.style.hide_index()"
   ]
  },
  {
   "cell_type": "markdown",
   "metadata": {},
   "source": [
    "## Energia de patrones alamacenados"
   ]
  },
  {
   "cell_type": "code",
   "execution_count": 6,
   "metadata": {
    "pycharm": {
     "name": "#%%\n"
    },
    "scrolled": false
   },
   "outputs": [
    {
     "name": "stdout",
     "output_type": "stream",
     "text": [
      "*****\n",
      "   * \n",
      "   * \n",
      "*  * \n",
      "***  \n",
      "Energia: -10.879999999999965\n",
      "\n",
      "*****\n",
      "*   *\n",
      "*****\n",
      "*   *\n",
      "*   *\n",
      "Energia: -11.039999999999973\n",
      "\n",
      "*    \n",
      "*    \n",
      "*    \n",
      "*    \n",
      "*****\n",
      "Energia: -10.719999999999967\n",
      "\n",
      "*   *\n",
      " * * \n",
      "  *  \n",
      " * * \n",
      "*   *\n",
      "Energia: -11.199999999999969\n",
      "\n"
     ]
    }
   ],
   "source": [
    "for i in range(np.size(training_letters, 0)):\n",
    "    print_letter(training_letters[i], elem_per_row)\n",
    "    print(f'Energia: {hopfield_network.calculate_energy(training_letters[i])}\\n')"
   ]
  },
  {
   "cell_type": "markdown",
   "metadata": {},
   "source": [
    "## Análisis de patrones almacenados"
   ]
  },
  {
   "cell_type": "code",
   "execution_count": 7,
   "metadata": {
    "pycharm": {
     "name": "#%%\n"
    }
   },
   "outputs": [
    {
     "name": "stdout",
     "output_type": "stream",
     "text": [
      "Patron\tPredicción\n",
      "*****\t*****\n",
      "   * \t   * \n",
      "   * \t   * \n",
      "*  * \t*  * \n",
      "***  \t***  \n",
      "\n",
      "Energies: [-10.879999999999965, -10.879999999999965] \n",
      "\n",
      "*****\t*****\n",
      "*   *\t*   *\n",
      "*****\t*****\n",
      "*   *\t*   *\n",
      "*   *\t*   *\n",
      "\n",
      "Energies: [-11.039999999999973, -11.039999999999973] \n",
      "\n",
      "*    \t*    \n",
      "*    \t*    \n",
      "*    \t*    \n",
      "*    \t*    \n",
      "*****\t*****\n",
      "\n",
      "Energies: [-10.719999999999967, -10.719999999999967] \n",
      "\n",
      "*   *\t*   *\n",
      " * * \t * * \n",
      "  *  \t  *  \n",
      " * * \t * * \n",
      "*   *\t*   *\n",
      "\n",
      "Energies: [-11.199999999999969, -11.199999999999969] \n",
      "\n"
     ]
    }
   ],
   "source": [
    "print('{0:<5}\\t{1:<5}'.format('Patron', 'Predicción'))\n",
    "for i in range(np.size(training_letters, 0)):\n",
    "    letter = training_letters[i]\n",
    "    print_letter_and_prediction(letter, hopfield_network.evaluate(letter), elem_per_row)"
   ]
  },
  {
   "cell_type": "markdown",
   "metadata": {},
   "source": [
    "## Análisis de patrones distorcionados"
   ]
  },
  {
   "cell_type": "code",
   "execution_count": 8,
   "metadata": {
    "pycharm": {
     "name": "#%%\n"
    }
   },
   "outputs": [
    {
     "name": "stdout",
     "output_type": "stream",
     "text": [
      "Patron\tPredicción\n",
      "*****\t*****\n",
      "  *  \t   * \n",
      "  *  \t   * \n",
      "* *  \t*  * \n",
      "***  \t***  \n",
      "\n",
      "Energies: [-1.6000000000000003, -10.879999999999965] \n",
      "\n",
      "*****\t*****\n",
      "*   *\t*   *\n",
      "*   *\t*****\n",
      "*****\t*   *\n",
      "*   *\t*   *\n",
      "\n",
      "Energies: [-1.4400000000000006, -11.039999999999973] \n",
      "\n",
      "*    \t*    \n",
      "*    \t*    \n",
      " *   \t*    \n",
      "*   *\t*    \n",
      "**** \t*****\n",
      "\n",
      "Energies: [-4.160000000000002, -10.719999999999967] \n",
      "\n",
      " * * \t*   *\n",
      " * * \t * * \n",
      "  *  \t  *  \n",
      " * * \t * * \n",
      " * * \t*   *\n",
      "\n",
      "Energies: [-3.3600000000000017, -7.520000000000006, -9.439999999999987, -11.199999999999969] \n",
      "\n"
     ]
    }
   ],
   "source": [
    "print('{0:<5}\\t{1:<5}'.format('Patron', 'Predicción'))\n",
    "for i in range(np.size(testing_letters, 0)):\n",
    "    letter = testing_letters[i]\n",
    "    print_letter_and_prediction(letter, hopfield_network.evaluate(letter), elem_per_row)"
   ]
  },
  {
   "cell_type": "markdown",
   "metadata": {},
   "source": [
    "## Análisis de patrones distorcionados de forma aleatoria"
   ]
  },
  {
   "cell_type": "code",
   "execution_count": 9,
   "metadata": {
    "pycharm": {
     "name": "#%%\n"
    },
    "scrolled": false
   },
   "outputs": [
    {
     "name": "stdout",
     "output_type": "stream",
     "text": [
      "Patron\tPredicción\n",
      "**** \t*****\n",
      "  ** \t   * \n",
      "   * \t   * \n",
      " * **\t*  * \n",
      "***  \t***  \n",
      "\n",
      "Energies: [-3.2000000000000024, -10.879999999999965] \n",
      "\n",
      "*****\t*****\n",
      "*    \t*   *\n",
      "*****\t*****\n",
      "    *\t*   *\n",
      " *   \t*   *\n",
      "\n",
      "Energies: [-3.8400000000000025, -11.039999999999973] \n",
      "\n",
      "*  * \t*    \n",
      "    *\t*    \n",
      "     \t*    \n",
      "*  * \t*    \n",
      "*****\t*****\n",
      "\n",
      "Energies: [-4.480000000000003, -9.439999999999984, -10.719999999999967] \n",
      "\n",
      "**  *\t*   *\n",
      " ****\t * * \n",
      "  *  \t  *  \n",
      " *   \t * * \n",
      "*  **\t*   *\n",
      "\n",
      "Energies: [-2.880000000000002, -11.199999999999969] \n",
      "\n"
     ]
    }
   ],
   "source": [
    "alterations_count: int = 5\n",
    "print('{0:<5}\\t{1:<5}'.format('Patron', 'Predicción'))\n",
    "for i in range(np.size(testing_letters, 0)):\n",
    "    letter = random_alter(training_letters[i], alterations_count)\n",
    "    print_letter_and_prediction(letter, hopfield_network.evaluate(letter), elem_per_row)"
   ]
  },
  {
   "cell_type": "markdown",
   "metadata": {},
   "source": [
    "## Análisis de patrones distorcionados"
   ]
  },
  {
   "cell_type": "code",
   "execution_count": 10,
   "metadata": {
    "pycharm": {
     "name": "#%%\n"
    }
   },
   "outputs": [
    {
     "name": "stdout",
     "output_type": "stream",
     "text": [
      "Patron\tPredicción\n",
      " **  \t **  \n",
      "*  * \t*** *\n",
      "***  \t*** *\n",
      "*****\t ** *\n",
      "   **\t   **\n",
      "\n",
      "Energies: [0.96, -8.959999999999992, -8.959999999999992, -8.959999999999992] \n",
      "\n",
      "Energia:  0.96\n"
     ]
    }
   ],
   "source": [
    "print('{0:<5}\\t{1:<5}'.format('Patron', 'Predicción'))\n",
    "print_letter_and_prediction(absurd_letter[0], hopfield_network.evaluate(absurd_letter[0]), elem_per_row)\n",
    "print('Energia: ', hopfield_network.calculate_energy(absurd_letter[0]))"
   ]
  },
  {
   "cell_type": "markdown",
   "metadata": {},
   "source": [
    "## Análisis de patrones generados aleatoriamente"
   ]
  },
  {
   "cell_type": "code",
   "execution_count": 11,
   "metadata": {
    "pycharm": {
     "name": "#%%\n"
    }
   },
   "outputs": [
    {
     "name": "stdout",
     "output_type": "stream",
     "text": [
      "Patron\tPredicción\n",
      "* * *\t*   *\n",
      " *   \t * * \n",
      "*  * \t  *  \n",
      " ****\t * * \n",
      "* ** \t*   *\n",
      "\n",
      "Energies: [0.8, -9.119999999999987, -11.199999999999969] \n",
      "\n",
      "Energia:  0.96\n"
     ]
    }
   ],
   "source": [
    "print('{0:<5}\\t{1:<5}'.format('Patron', 'Predicción'))\n",
    "letter = np.random.choice([-1, 1], np.size(training_letters, 1))\n",
    "print_letter_and_prediction(letter, hopfield_network.evaluate(letter), elem_per_row)\n",
    "print('Energia: ', hopfield_network.calculate_energy(absurd_letter[0]))"
   ]
  }
 ],
 "metadata": {
  "kernelspec": {
   "display_name": "Python 3",
   "language": "python",
   "name": "python3"
  },
  "language_info": {
   "codemirror_mode": {
    "name": "ipython",
    "version": 3
   },
   "file_extension": ".py",
   "mimetype": "text/x-python",
   "name": "python",
   "nbconvert_exporter": "python",
   "pygments_lexer": "ipython3",
   "version": "3.9.2"
  }
 },
 "nbformat": 4,
 "nbformat_minor": 1
}