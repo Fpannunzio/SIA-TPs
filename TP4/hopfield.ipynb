{
 "cells": [
  {
   "cell_type": "code",
   "execution_count": 1,
   "metadata": {
    "pycharm": {
     "name": "#%%\n"
    }
   },
   "outputs": [],
   "source": [
    "# ![ ! -d \"SIA-TPs\" ] && git clone https://github.com/Fpannunzio/SIA-TPs.git\n",
    "# ! pip install -r SIA-TPs/TP4/requirements.txt"
   ]
  },
  {
   "cell_type": "code",
   "execution_count": 2,
   "metadata": {},
   "outputs": [],
   "source": [
    "import os\n",
    "import sys\n",
    "\n",
    "# basePath = 'SIA-TPs/TP4'\n",
    "basePath = '.'\n",
    "\n",
    "module_path = os.path.abspath(os.path.join(basePath))\n",
    "if module_path not in sys.path:\n",
    "    sys.path.append(module_path)"
   ]
  },
  {
   "cell_type": "code",
   "execution_count": 3,
   "metadata": {
    "pycharm": {
     "name": "#%%\n"
    }
   },
   "outputs": [],
   "source": [
    "import numpy as np\n",
    "\n",
    "from hopfield_utils import get_training_set, print_letter, print_letter_and_prediction, random_alter\n",
    "from hopfield_network import HopfieldNetwork"
   ]
  },
  {
   "cell_type": "code",
   "execution_count": 4,
   "metadata": {
    "pycharm": {
     "name": "#%%\n"
    }
   },
   "outputs": [],
   "source": [
    "rows_per_entry: int = 5\n",
    "elem_per_row: int = 5\n",
    "\n",
    "training_letters: np.ndarray = get_training_set(basePath + '/' + 'patterns/letters_inputs.tsv', rows_per_entry)\n",
    "\n",
    "testing_letters: np.ndarray = get_training_set(basePath + '/' + 'patterns/letters_test.tsv', rows_per_entry)\n",
    "\n",
    "absurd_letter: np.ndarray = get_training_set(basePath + '/' + 'patterns/absurd_pattern.tsv', rows_per_entry)\n",
    "\n",
    "hopfield_network: HopfieldNetwork = HopfieldNetwork(training_letters)"
   ]
  },
  {
   "cell_type": "markdown",
   "metadata": {},
   "source": [
    "## Energia de patrones alamacenados"
   ]
  },
  {
   "cell_type": "code",
   "execution_count": 5,
   "metadata": {
    "pycharm": {
     "name": "#%%\n"
    },
    "scrolled": false
   },
   "outputs": [
    {
     "name": "stdout",
     "output_type": "stream",
     "text": [
      "*****\n",
      "   * \n",
      "   * \n",
      "*  * \n",
      "***  \n",
      "Energia: -10.71999999999999\n",
      "\n",
      "*****\n",
      "*   *\n",
      "*****\n",
      "*   *\n",
      "*   *\n",
      "Energia: -11.519999999999985\n",
      "\n",
      "*    \n",
      "*    \n",
      "*    \n",
      "*    \n",
      "*****\n",
      "Energia: -16.47999999999991\n",
      "\n",
      "*   *\n",
      "*   *\n",
      "*   *\n",
      "*   *\n",
      "*****\n",
      "Energia: -17.279999999999898\n",
      "\n"
     ]
    }
   ],
   "source": [
    "for i in range(np.size(training_letters, 0)):\n",
    "    print_letter(training_letters[i], elem_per_row)\n",
    "    print(f'Energia: {hopfield_network.calculate_energy(training_letters[i])}\\n')"
   ]
  },
  {
   "cell_type": "markdown",
   "metadata": {},
   "source": [
    "## Análisis de patrones almacenados"
   ]
  },
  {
   "cell_type": "code",
   "execution_count": 6,
   "metadata": {
    "pycharm": {
     "name": "#%%\n"
    }
   },
   "outputs": [
    {
     "name": "stdout",
     "output_type": "stream",
     "text": [
      "Patron\tPredicción\n",
      "Energies: [-10.71999999999999, -10.71999999999999]\n",
      "*****\t*****\n",
      "   * \t   * \n",
      "   * \t   * \n",
      "*  * \t*  * \n",
      "***  \t***  \n",
      "\n",
      "Energies: [-11.519999999999985, -11.519999999999985]\n",
      "*****\t*****\n",
      "*   *\t*   *\n",
      "*****\t*****\n",
      "*   *\t*   *\n",
      "*   *\t*   *\n",
      "\n",
      "Energies: [-16.47999999999991, -16.47999999999991]\n",
      "*    \t*    \n",
      "*    \t*    \n",
      "*    \t*    \n",
      "*    \t*    \n",
      "*****\t*****\n",
      "\n",
      "Energies: [-17.279999999999898, -17.279999999999898]\n",
      "*   *\t*   *\n",
      "*   *\t*   *\n",
      "*   *\t*   *\n",
      "*   *\t*   *\n",
      "*****\t*****\n",
      "\n"
     ]
    }
   ],
   "source": [
    "print('{0:<5}\\t{1:<5}'.format('Patron', 'Predicción'))\n",
    "for i in range(np.size(training_letters, 0)):\n",
    "    letter = training_letters[i]\n",
    "    print_letter_and_prediction(letter, hopfield_network.evaluate(letter), elem_per_row)"
   ]
  },
  {
   "cell_type": "markdown",
   "metadata": {},
   "source": [
    "## Análisis de patrones distorcionados"
   ]
  },
  {
   "cell_type": "code",
   "execution_count": 7,
   "metadata": {
    "pycharm": {
     "name": "#%%\n"
    }
   },
   "outputs": [
    {
     "name": "stdout",
     "output_type": "stream",
     "text": [
      "Patron\tPredicción\n",
      "Energies: [-1.600000000000001, -10.71999999999999]\n",
      "*****\t*****\n",
      "  *  \t   * \n",
      "  *  \t   * \n",
      "* *  \t*  * \n",
      "***  \t***  \n",
      "\n",
      "Energies: [-2.4000000000000012, -11.519999999999985]\n",
      "*****\t*****\n",
      "*   *\t*   *\n",
      "*   *\t*****\n",
      "*****\t*   *\n",
      "*   *\t*   *\n",
      "\n",
      "Energies: [-7.360000000000005, -16.319999999999915, -16.47999999999991]\n",
      "*    \t*    \n",
      "*    \t*    \n",
      " *   \t*    \n",
      "*   *\t*    \n",
      "**** \t*****\n",
      "\n",
      "Energies: [-8.160000000000002, -17.279999999999898]\n",
      " * * \t*   *\n",
      "*   *\t*   *\n",
      "*   *\t*   *\n",
      "*   *\t*   *\n",
      "*****\t*****\n",
      "\n"
     ]
    }
   ],
   "source": [
    "print('{0:<5}\\t{1:<5}'.format('Patron', 'Predicción'))\n",
    "for i in range(np.size(testing_letters, 0)):\n",
    "    letter = testing_letters[i]\n",
    "    print_letter_and_prediction(letter, hopfield_network.evaluate(letter), elem_per_row)"
   ]
  },
  {
   "cell_type": "markdown",
   "metadata": {},
   "source": [
    "## Análisis de patrones distorcionados de forma aleatoria"
   ]
  },
  {
   "cell_type": "code",
   "execution_count": 8,
   "metadata": {
    "pycharm": {
     "name": "#%%\n"
    }
   },
   "outputs": [
    {
     "name": "stdout",
     "output_type": "stream",
     "text": [
      "Patron\tPredicción\n",
      "Energies: [-3.8400000000000025, -14.879999999999935, -17.279999999999898]\n",
      "*****\t *** \n",
      " *** \t *** \n",
      "    *\t *** \n",
      "  ** \t *** \n",
      " *   \t     \n",
      "\n",
      "Energies: [-1.4400000000000006, -8.000000000000009, -16.47999999999991]\n",
      "**  *\t ****\n",
      "** **\t ****\n",
      " ****\t ****\n",
      "**  *\t ****\n",
      "     \t     \n",
      "\n",
      "Energies: [-2.080000000000001, -8.32, -16.319999999999915, -16.47999999999991]\n",
      "* *  \t*    \n",
      " * * \t*    \n",
      "   * \t*    \n",
      "*    \t*    \n",
      "* * *\t*****\n",
      "\n",
      "Energies: [-2.240000000000001, -17.279999999999898]\n",
      "** * \t*   *\n",
      "    *\t*   *\n",
      "* *  \t*   *\n",
      "    *\t*   *\n",
      "* ***\t*****\n",
      "\n"
     ]
    }
   ],
   "source": [
    "alterations_count: int = 8\n",
    "print('{0:<5}\\t{1:<5}'.format('Patron', 'Predicción'))\n",
    "for i in range(np.size(testing_letters, 0)):\n",
    "    letter = random_alter(training_letters[i], alterations_count)\n",
    "    print_letter_and_prediction(letter, hopfield_network.evaluate(letter), elem_per_row)"
   ]
  },
  {
   "cell_type": "markdown",
   "metadata": {},
   "source": [
    "## Análisis de patrones distorcionados"
   ]
  },
  {
   "cell_type": "code",
   "execution_count": 9,
   "metadata": {
    "pycharm": {
     "name": "#%%\n"
    }
   },
   "outputs": [
    {
     "name": "stdout",
     "output_type": "stream",
     "text": [
      "Patron\tPredicción\n",
      "Energies: [0.4800000000000006, -7.360000000000006, -16.319999999999915, -16.47999999999991]\n",
      " **  \t ****\n",
      "*  * \t ****\n",
      "***  \t ****\n",
      "*****\t ****\n",
      "   **\t     \n",
      "\n",
      "Energia:  0.4800000000000006\n"
     ]
    }
   ],
   "source": [
    "print('{0:<5}\\t{1:<5}'.format('Patron', 'Predicción'))\n",
    "print_letter_and_prediction(absurd_letter[0], hopfield_network.evaluate(absurd_letter[0]), elem_per_row)\n",
    "print('Energia: ', hopfield_network.calculate_energy(absurd_letter[0]))"
   ]
  },
  {
   "cell_type": "markdown",
   "metadata": {},
   "source": [
    "## Análisis de patrones generados aleatoriamente"
   ]
  },
  {
   "cell_type": "code",
   "execution_count": 10,
   "metadata": {
    "pycharm": {
     "name": "#%%\n"
    }
   },
   "outputs": [
    {
     "name": "stdout",
     "output_type": "stream",
     "text": [
      "Patron\tPredicción\n",
      "Energies: [0.9600000000000003, -5.280000000000004, -11.999999999999961, -16.47999999999991]\n",
      "*    \t*    \n",
      " *   \t*    \n",
      "** * \t*    \n",
      " * **\t*    \n",
      "** * \t*****\n",
      "\n",
      "Energia:  0.4800000000000006\n"
     ]
    }
   ],
   "source": [
    "print('{0:<5}\\t{1:<5}'.format('Patron', 'Predicción'))\n",
    "letter = np.random.choice([-1, 1], np.size(training_letters, 1))\n",
    "print_letter_and_prediction(letter, hopfield_network.evaluate(letter), elem_per_row)\n",
    "print('Energia: ', hopfield_network.calculate_energy(absurd_letter[0]))"
   ]
  }
 ],
 "metadata": {
  "kernelspec": {
   "display_name": "Python 3",
   "language": "python",
   "name": "python3"
  },
  "language_info": {
   "codemirror_mode": {
    "name": "ipython",
    "version": 3
   },
   "file_extension": ".py",
   "mimetype": "text/x-python",
   "name": "python",
   "nbconvert_exporter": "python",
   "pygments_lexer": "ipython3",
   "version": "3.9.1"
  }
 },
 "nbformat": 4,
 "nbformat_minor": 1
}