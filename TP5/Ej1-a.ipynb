{
 "cells": [
  {
   "cell_type": "code",
   "execution_count": 1,
   "metadata": {
    "pycharm": {
     "name": "#%%\n"
    }
   },
   "outputs": [],
   "source": [
    "import os\n",
    "import sys\n",
    "\n",
    "basePath = '.'\n",
    "\n",
    "module_path = os.path.abspath(os.path.join(basePath))\n",
    "if module_path not in sys.path:\n",
    "    sys.path.append(module_path)"
   ]
  },
  {
   "cell_type": "code",
   "execution_count": 2,
   "metadata": {},
   "outputs": [],
   "source": [
    "from typing import List\n",
    "import numpy as np\n",
    "from TP5.autoencoder_utils import to_bits, labeled_scatter, print_bit_array, generate\n",
    "from TP5.fonts import font2, font2_lables, font1, font1_lables, font3_lables, font3\n",
    "from TP5.MLP import Network"
   ]
  },
  {
   "cell_type": "code",
   "execution_count": 3,
   "metadata": {
    "pycharm": {
     "name": "#%%\n"
    }
   },
   "outputs": [],
   "source": [
    "training_points = to_bits(font3)\n",
    "\n",
    "layers: List[int] = [25,15,5, 2, 5,15,25]\n",
    "layers.append(np.size(training_points, axis=1))\n",
    "layers.insert(0, np.size(training_points, axis=1))\n",
    "\n",
    "epoch = 5000\n",
    "eta = 0.0005\n",
    "\n",
    "neural_network: Network = Network(np.size(training_points, 1), layers, np.size(training_points, 1), 1e-6)"
   ]
  },
  {
   "cell_type": "code",
   "execution_count": 4,
   "metadata": {
    "pycharm": {
     "name": "#%%\n"
    }
   },
   "outputs": [],
   "source": [
    "count = 35\n",
    "start = 0\n",
    "training_points = training_values = to_bits(font3)[start:start+count]"
   ]
  },
  {
   "cell_type": "code",
   "execution_count": 5,
   "metadata": {
    "pycharm": {
     "name": "#%%\n"
    }
   },
   "outputs": [
    {
     "name": "stdout",
     "output_type": "stream",
     "text": [
      "Loss: 0.24688954624385182 at epoch 500\n",
      "Loss: 0.15490664560921652 at epoch 1000\n",
      "Loss: 0.08850576038212622 at epoch 1500\n",
      "Loss: 0.08557258397330371 at epoch 2000\n",
      "Loss: 0.03099042791887368 at epoch 2500\n",
      "Loss: 0.023720022919856545 at epoch 3000\n",
      "Loss: 0.018099208253183875 at epoch 3500\n",
      "Loss: 0.014957912825054126 at epoch 4000\n",
      "Loss: 0.01278306793083484 at epoch 4500\n",
      "Loss: 0.011232087588836287 at epoch 5000\n",
      "Minimum loss:  0.011232087588836287\n"
     ]
    },
    {
     "data": {
      "image/png": "[encoded data removed]",
      "text/plain": [
       "<Figure size 432x288 with 1 Axes>"
      ]
     },
     "metadata": {
      "needs_background": "light"
     },
     "output_type": "display_data"
    }
   ],
   "source": [
    "neural_network.train(training_points, training_values, epoch, eta,5, 0.5,10, 0.1, True)"
   ]
  },
  {
   "cell_type": "code",
   "execution_count": 6,
   "metadata": {
    "pycharm": {
     "name": "#%%\n"
    }
   },
   "outputs": [
    {
     "data": {
      "image/png": "[encoded data removed]",
      "text/plain": [
       "<Figure size 1152x720 with 1 Axes>"
      ]
     },
     "metadata": {
      "needs_background": "light"
     },
     "output_type": "display_data"
    }
   ],
   "source": [
    "z_values: np.ndarray = np.empty((np.size(training_points, 0), 2))\n",
    "predictions: np.ndarray = np.empty(training_points.shape)\n",
    "\n",
    "for i in range(np.size(training_points, 0)):\n",
    "    predictions[i], w = neural_network.predict(training_points[i])\n",
    "    z_values[i] = neural_network.activations[len(layers)//2 + 1]\n",
    "\n",
    "labeled_scatter(z_values[:, 0], z_values[:, 1], labels=font3_lables[start:start+count])"
   ]
  },
  {
   "cell_type": "code",
   "execution_count": 12,
   "metadata": {
    "pycharm": {
     "name": "#%%\n"
    }
   },
   "outputs": [],
   "source": [
    "for i in range(len(predictions)):\n",
    "    if not (predictions[i] * training_points[i] >= 0).all():\n",
    "        print_bit_array(predictions[i])\n",
    "        print_bit_array(training_points[i])\n",
    "        print('\\n\\n')"
   ]
  },
  {
   "cell_type": "code",
   "execution_count": 8,
   "metadata": {
    "pycharm": {
     "name": "#%%\n"
    }
   },
   "outputs": [
    {
     "name": "stdout",
     "output_type": "stream",
     "text": [
      "     \n",
      "     \n",
      " ****\n",
      "*    \n",
      " *** \n",
      "    *\n",
      "**** \n",
      "     \n",
      "     \n",
      "*****\n",
      "   * \n",
      "  *  \n",
      " *   \n",
      "*****\n"
     ]
    }
   ],
   "source": [
    "fv = 19\n",
    "sv = 26\n",
    "print_bit_array(training_values[fv])\n",
    "print_bit_array(training_values[sv])"
   ]
  },
  {
   "cell_type": "code",
   "execution_count": 9,
   "metadata": {
    "pycharm": {
     "name": "#%%\n"
    }
   },
   "outputs": [
    {
     "name": "stdout",
     "output_type": "stream",
     "text": [
      "[ 0.02803089 -0.04247718]\n",
      "     \n",
      "     \n",
      " ****\n",
      "*    \n",
      " *** \n",
      "    *\n",
      "**** \n",
      "[ 0.03361589 -0.06980049]\n",
      "     \n",
      "     \n",
      " ****\n",
      "*    \n",
      " *** \n",
      "    *\n",
      "**** \n",
      "[ 0.03920089 -0.09712379]\n",
      "     \n",
      "     \n",
      " ****\n",
      "*    \n",
      " *** \n",
      "    *\n",
      "**** \n",
      "[ 0.04478589 -0.1244471 ]\n",
      "     \n",
      "     \n",
      " ****\n",
      "*    \n",
      " *** \n",
      "    *\n",
      "**** \n",
      "[ 0.05037089 -0.15177041]\n",
      "     \n",
      "     \n",
      " ****\n",
      "   * \n",
      "  ** \n",
      "    *\n",
      "**** \n",
      "[ 0.05595589 -0.17909371]\n",
      "     \n",
      "     \n",
      "*****\n",
      "   * \n",
      "  ** \n",
      "     \n",
      "**** \n",
      "[ 0.06154089 -0.20641702]\n",
      "     \n",
      "     \n",
      "*****\n",
      "   * \n",
      "  *  \n",
      " *   \n",
      "**** \n",
      "[ 0.06712589 -0.23374033]\n",
      "     \n",
      "     \n",
      "*****\n",
      "   * \n",
      "  *  \n",
      " *   \n",
      "*****\n",
      "[ 0.07271089 -0.26106363]\n",
      "     \n",
      "     \n",
      "*****\n",
      "   * \n",
      "  *  \n",
      " *   \n",
      "*****\n",
      "[ 0.07829589 -0.28838694]\n",
      "     \n",
      "     \n",
      "*****\n",
      "   * \n",
      "  *  \n",
      " *   \n",
      "*****\n"
     ]
    }
   ],
   "source": [
    "generate(neural_network, z_values, fv, sv, 10)"
   ]
  }
 ],
 "metadata": {
  "kernelspec": {
   "display_name": "Python 3",
   "language": "python",
   "name": "python3"
  },
  "language_info": {
   "codemirror_mode": {
    "name": "ipython",
    "version": 3
   },
   "file_extension": ".py",
   "mimetype": "text/x-python",
   "name": "python",
   "nbconvert_exporter": "python",
   "pygments_lexer": "ipython3",
   "version": "3.9.2"
  }
 },
 "nbformat": 4,
 "nbformat_minor": 1
}